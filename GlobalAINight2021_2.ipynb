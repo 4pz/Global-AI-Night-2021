{
  "cells": [
    {
      "cell_type": "code",
      "source": [
        "#In this part, we will deploy an image classification model in Azure Container Instance (ACI). \r\n",
        "#We are going to begin by setting our environment up by first, installing our needed packages.import\r\n",
        "\r\n",
        "%matplotlib inline\r\n",
        "import numpy as np\r\n",
        "import matplotlib.pyplot as plt\r\n",
        " \r\n",
        "import azureml.core\r\n",
        "\r\n",
        "# display the core SDK version number\r\n",
        "print(\"Azure ML SDK Version: \", azureml.core.VERSION)"
      ],
      "outputs": [
        {
          "output_type": "stream",
          "name": "stdout",
          "text": [
            "Azure ML SDK Version:  1.26.0\n"
          ]
        }
      ],
      "execution_count": 12,
      "metadata": {
        "gather": {
          "logged": 1618965399128
        }
      }
    },
    {
      "cell_type": "code",
      "source": [
        "%%writefile score.py\r\n",
        "\r\n",
        "#Now we are going to start deploying our program as a web service hosted in ACL.\r\n",
        "#To begin this, we are going to create a file called score.py. In the code, the `init` function is what loads the model into a global object.\r\n",
        "#The run(input_data) function uses the model to predict a value based on the input data.\r\n",
        "\r\n",
        "import json\r\n",
        "import numpy as np\r\n",
        "import os\r\n",
        "import pickle\r\n",
        "import joblib\r\n",
        "\r\n",
        "def init():\r\n",
        "    global model\r\n",
        "    # AZUREML_MODEL_DIR is an environment variable created during deployment.\r\n",
        "    # It is the path to the model folder (./azureml-models/$MODEL_NAME/$VERSION)\r\n",
        "    # For multiple models, it points to the folder containing all deployed models (./azureml-models)\r\n",
        "    model_path = os.path.join(os.getenv('AZUREML_MODEL_DIR'), 'sklearn_mnist_model.pkl')\r\n",
        "    model = joblib.load(model_path)\r\n",
        "\r\n",
        "def run(raw_data):\r\n",
        "    data = np.array(json.loads(raw_data)['data'])\r\n",
        "    # make prediction\r\n",
        "    y_hat = model.predict(data)\r\n",
        "    # you can return any data type as long as it is JSON-serializable\r\n",
        "    return y_hat.tolist()\r\n"
      ],
      "outputs": [
        {
          "output_type": "stream",
          "name": "stdout",
          "text": [
            "Writing score.py\n"
          ]
        }
      ],
      "execution_count": 13,
      "metadata": {
        "collapsed": true,
        "jupyter": {
          "source_hidden": false,
          "outputs_hidden": false
        },
        "nteract": {
          "transient": {
            "deleting": false
          }
        },
        "gather": {
          "logged": 1618372996383
        }
      }
    },
    {
      "cell_type": "code",
      "source": [
        "#Next, we create a config file where we specify the number of CPUs and gigabyte of RAM needed.\r\n",
        "\r\n",
        "from azureml.core.webservice import AciWebservice\r\n",
        "\r\n",
        "aciconfig = AciWebservice.deploy_configuration(cpu_cores=1, \r\n",
        "                                               memory_gb=1, \r\n",
        "                                               tags={\"data\": \"MNIST\",  \"method\" : \"sklearn\"}, \r\n",
        "                                               description='Predict MNIST with sklearn')"
      ],
      "outputs": [],
      "execution_count": 14,
      "metadata": {
        "collapsed": true,
        "jupyter": {
          "source_hidden": false,
          "outputs_hidden": false
        },
        "nteract": {
          "transient": {
            "deleting": false
          }
        },
        "gather": {
          "logged": 1618965399763
        }
      }
    },
    {
      "cell_type": "code",
      "source": [
        "%%time\r\n",
        "\r\n",
        "'''\r\n",
        "Finally, we deploy to ACI.\r\n",
        "The following code goes through these steps:\r\n",
        "\r\n",
        "Create environment object containing dependencies needed by the model using the environment file (myenv.yml)\r\n",
        "Create inference configuration necessary to deploy the model as a web service using:\r\n",
        "    The scoring file (score.py)\r\n",
        "    envrionment object created in previous step\r\n",
        "Deploy the model to the ACI container.\r\n",
        "Get the web service HTTP endpoint.\r\n",
        "\r\n",
        "Time Consuming\r\n",
        "'''\r\n",
        "\r\n",
        "\r\n",
        "import uuid\r\n",
        "from azureml.core.webservice import Webservice\r\n",
        "from azureml.core.model import InferenceConfig\r\n",
        "from azureml.core.environment import Environment\r\n",
        "from azureml.core import Workspace\r\n",
        "from azureml.core.model import Model\r\n",
        "\r\n",
        "ws = Workspace.from_config()\r\n",
        "model = Model(ws, 'sklearn_mnist')\r\n",
        "\r\n",
        "\r\n",
        "myenv = Environment.get(workspace=ws, name=\"tutorial-env\", version=\"1\")\r\n",
        "inference_config = InferenceConfig(entry_script=\"score.py\", environment=myenv)\r\n",
        "\r\n",
        "service_name = 'sklearn-mnist-svc-' + str(uuid.uuid4())[:4]\r\n",
        "service = Model.deploy(workspace=ws, \r\n",
        "                       name=service_name, \r\n",
        "                       models=[model], \r\n",
        "                       inference_config=inference_config, \r\n",
        "                       deployment_config=aciconfig)\r\n",
        "\r\n",
        "service.wait_for_deployment(show_output=True)"
      ],
      "outputs": [
        {
          "output_type": "stream",
          "name": "stdout",
          "text": [
            "Tips: You can try get_logs(): https://aka.ms/debugimage#dockerlog or local deployment: https://aka.ms/debugimage#debug-locally to debug if deployment takes longer than 10 minutes.\n",
            "Running\n",
            "2021-04-21 00:36:47+00:00 Creating Container Registry if not exists.\n",
            "2021-04-21 00:36:48+00:00 Registering the environment.\n",
            "2021-04-21 00:36:52+00:00 Use the existing image..\n",
            "2021-04-21 00:36:53+00:00 Generating deployment configuration..\n",
            "2021-04-21 00:36:59+00:00 Submitting deployment to compute..\n",
            "2021-04-21 00:37:07+00:00 Checking the status of deployment sklearn-mnist-svc-c8d9..\n",
            "2021-04-21 00:41:07+00:00 Checking the status of inference endpoint sklearn-mnist-svc-c8d9.\n",
            "Succeeded\n",
            "ACI service creation operation finished, operation \"Succeeded\"\n",
            "CPU times: user 902 ms, sys: 0 ns, total: 902 ms\n",
            "Wall time: 4min 34s\n"
          ]
        }
      ],
      "execution_count": 15,
      "metadata": {
        "collapsed": true,
        "jupyter": {
          "source_hidden": false,
          "outputs_hidden": false
        },
        "nteract": {
          "transient": {
            "deleting": false
          }
        }
      }
    },
    {
      "cell_type": "code",
      "source": [
        "#This will print out an endpoint allowing anyone to test the web service or integrate it into their own application.\r\n",
        "\r\n",
        "print(service.scoring_uri)"
      ],
      "outputs": [
        {
          "output_type": "stream",
          "name": "stdout",
          "text": [
            "http://8c865ee4-95a7-4c6c-b023-3e2deed75e3d.westus.azurecontainer.io/score\n"
          ]
        }
      ],
      "execution_count": 16,
      "metadata": {
        "collapsed": true,
        "jupyter": {
          "source_hidden": false,
          "outputs_hidden": false
        },
        "nteract": {
          "transient": {
            "deleting": false
          }
        },
        "gather": {
          "logged": 1618965678648
        }
      }
    },
    {
      "cell_type": "code",
      "source": [
        "#Here, we will start testing our model on real data.\r\n",
        "#This code will download the data we will test on.\r\n",
        "\r\n",
        "import os\r\n",
        "from azureml.core import Dataset\r\n",
        "from azureml.opendatasets import MNIST\r\n",
        "\r\n",
        "data_folder = os.path.join(os.getcwd(), 'data')\r\n",
        "os.makedirs(data_folder, exist_ok=True)\r\n",
        "\r\n",
        "mnist_file_dataset = MNIST.get_file_dataset()\r\n",
        "mnist_file_dataset.download(data_folder, overwrite=True)"
      ],
      "outputs": [
        {
          "output_type": "execute_result",
          "execution_count": 17,
          "data": {
            "text/plain": "['/mnt/batch/tasks/shared/LS_root/mounts/clusters/globalainight2021/code/Users/vinayven01/data/https%3A/%2Fazureopendatastorage.azurefd.net/mnist/t10k-images-idx3-ubyte.gz',\n '/mnt/batch/tasks/shared/LS_root/mounts/clusters/globalainight2021/code/Users/vinayven01/data/https%3A/%2Fazureopendatastorage.azurefd.net/mnist/t10k-labels-idx1-ubyte.gz',\n '/mnt/batch/tasks/shared/LS_root/mounts/clusters/globalainight2021/code/Users/vinayven01/data/https%3A/%2Fazureopendatastorage.azurefd.net/mnist/train-images-idx3-ubyte.gz',\n '/mnt/batch/tasks/shared/LS_root/mounts/clusters/globalainight2021/code/Users/vinayven01/data/https%3A/%2Fazureopendatastorage.azurefd.net/mnist/train-labels-idx1-ubyte.gz']"
          },
          "metadata": {}
        }
      ],
      "execution_count": 17,
      "metadata": {
        "collapsed": true,
        "jupyter": {
          "source_hidden": false,
          "outputs_hidden": false
        },
        "nteract": {
          "transient": {
            "deleting": false
          }
        },
        "gather": {
          "logged": 1618965679635
        }
      }
    },
    {
      "cell_type": "code",
      "source": [
        "#Now we are loading the test data that we downloaded in the cell above.\r\n",
        "\r\n",
        "from utils import load_data\r\n",
        "import os\r\n",
        "import glob\r\n",
        "\r\n",
        "data_folder = os.path.join(os.getcwd(), 'data')\r\n",
        "# note we also shrink the intensity values (X) from 0-255 to 0-1. This helps the neural network converge faster\r\n",
        "X_test = load_data(glob.glob(os.path.join(data_folder,\"**/t10k-images-idx3-ubyte.gz\"), recursive=True)[0], False) / 255.0\r\n",
        "y_test = load_data(glob.glob(os.path.join(data_folder,\"**/t10k-labels-idx1-ubyte.gz\"), recursive=True)[0], True).reshape(-1)"
      ],
      "outputs": [],
      "execution_count": 18,
      "metadata": {
        "collapsed": true,
        "jupyter": {
          "source_hidden": false,
          "outputs_hidden": false
        },
        "nteract": {
          "transient": {
            "deleting": false
          }
        },
        "gather": {
          "logged": 1618965679838
        }
      }
    },
    {
      "cell_type": "code",
      "source": [
        "#Now, we are actually applying our data to our trained model to see predictions. All we are doing is sending JSON data to our endpoint.\r\n",
        "\r\n",
        "import json\r\n",
        "test = json.dumps({\"data\": X_test.tolist()})\r\n",
        "test = bytes(test, encoding='utf8')\r\n",
        "y_hat = service.run(input_data=test)"
      ],
      "outputs": [],
      "execution_count": 19,
      "metadata": {
        "collapsed": true,
        "jupyter": {
          "source_hidden": false,
          "outputs_hidden": false
        },
        "nteract": {
          "transient": {
            "deleting": false
          }
        },
        "gather": {
          "logged": 1618965690432
        }
      }
    },
    {
      "cell_type": "code",
      "source": [
        "#We create something called a confusion matrix to visualize our correct and incorrect predictions.\r\n",
        "\r\n",
        "from sklearn.metrics import confusion_matrix\r\n",
        "\r\n",
        "conf_mx = confusion_matrix(y_test, y_hat)\r\n",
        "print(conf_mx)\r\n",
        "print('Overall accuracy:', np.average(y_hat == y_test))"
      ],
      "outputs": [
        {
          "output_type": "stream",
          "name": "stdout",
          "text": [
            "[[ 960    0    2    2    1    4    6    3    1    1]\n",
            " [   0 1113    3    1    0    1    5    1   11    0]\n",
            " [   9    8  919   20    9    5   10   12   37    3]\n",
            " [   4    0   17  918    2   24    4   11   21    9]\n",
            " [   1    4    4    3  913    0   10    3    5   39]\n",
            " [  10    2    0   42   11  768   17    7   28    7]\n",
            " [   9    3    7    2    6   20  907    1    3    0]\n",
            " [   2    9   22    5    8    1    1  948    5   27]\n",
            " [  10   15    5   21   15   26    7   11  852   12]\n",
            " [   7    8    2   14   32   13    0   26   12  895]]\n",
            "Overall accuracy: 0.9193\n"
          ]
        }
      ],
      "execution_count": 20,
      "metadata": {
        "collapsed": true,
        "jupyter": {
          "source_hidden": false,
          "outputs_hidden": false
        },
        "nteract": {
          "transient": {
            "deleting": false
          }
        },
        "gather": {
          "logged": 1618965691075
        }
      }
    },
    {
      "cell_type": "code",
      "source": [
        "#To display the confusion matrix as a graph so we can visualize it, we use matplotlib\r\n",
        "\r\n",
        "# normalize the diagonal cells so that they don't overpower the rest of the cells when visualized\r\n",
        "row_sums = conf_mx.sum(axis=1, keepdims=True)\r\n",
        "norm_conf_mx = conf_mx / row_sums\r\n",
        "np.fill_diagonal(norm_conf_mx, 0)\r\n",
        "\r\n",
        "fig = plt.figure(figsize=(8,5))\r\n",
        "ax = fig.add_subplot(111)\r\n",
        "cax = ax.matshow(norm_conf_mx, cmap=plt.cm.bone)\r\n",
        "ticks = np.arange(0, 10, 1)\r\n",
        "ax.set_xticks(ticks)\r\n",
        "ax.set_yticks(ticks)\r\n",
        "ax.set_xticklabels(ticks)\r\n",
        "ax.set_yticklabels(ticks)\r\n",
        "fig.colorbar(cax)\r\n",
        "plt.ylabel('true labels', fontsize=14)\r\n",
        "plt.xlabel('predicted values', fontsize=14)\r\n",
        "plt.savefig('conf.png')\r\n",
        "plt.show()"
      ],
      "outputs": [
        {
          "output_type": "display_data",
          "data": {
            "text/plain": "<Figure size 576x360 with 2 Axes>",
            "image/png": "[encoded data removed]"
          },
          "metadata": {
            "needs_background": "light"
          }
        }
      ],
      "execution_count": 21,
      "metadata": {
        "collapsed": true,
        "jupyter": {
          "source_hidden": false,
          "outputs_hidden": false
        },
        "nteract": {
          "transient": {
            "deleting": false
          }
        },
        "gather": {
          "logged": 1618965691781
        }
      }
    },
    {
      "cell_type": "code",
      "source": [
        "#Here, we show our predictions after testing it on 30 images. It may take a couple tries to find an incorrect prediction due to our models accuracy being high.\r\n",
        "\r\n",
        "import json\r\n",
        "\r\n",
        "# find 30 random samples from test set\r\n",
        "n = 30\r\n",
        "sample_indices = np.random.permutation(X_test.shape[0])[0:n]\r\n",
        "\r\n",
        "test_samples = json.dumps({\"data\": X_test[sample_indices].tolist()})\r\n",
        "test_samples = bytes(test_samples, encoding='utf8')\r\n",
        "\r\n",
        "# predict using the deployed model\r\n",
        "result = service.run(input_data=test_samples)\r\n",
        "\r\n",
        "# compare actual value vs. the predicted values:\r\n",
        "i = 0\r\n",
        "plt.figure(figsize = (20, 1))\r\n",
        "\r\n",
        "for s in sample_indices:\r\n",
        "    plt.subplot(1, n, i + 1)\r\n",
        "    plt.axhline('')\r\n",
        "    plt.axvline('')\r\n",
        "    \r\n",
        "    # use different color for misclassified sample\r\n",
        "    font_color = 'red' if y_test[s] != result[i] else 'black'\r\n",
        "    clr_map = plt.cm.gray if y_test[s] != result[i] else plt.cm.Greys\r\n",
        "    \r\n",
        "    plt.text(x=10, y =-10, s=result[i], fontsize=18, color=font_color)\r\n",
        "    plt.imshow(X_test[s].reshape(28, 28), cmap=clr_map)\r\n",
        "    \r\n",
        "    i = i + 1\r\n",
        "plt.show()"
      ],
      "outputs": [
        {
          "output_type": "display_data",
          "data": {
            "text/plain": "<Figure size 1440x72 with 30 Axes>",
            "image/png": "[encoded data removed]"
          },
          "metadata": {
            "needs_background": "light"
          }
        }
      ],
      "execution_count": 22,
      "metadata": {
        "collapsed": true,
        "jupyter": {
          "source_hidden": false,
          "outputs_hidden": false
        },
        "nteract": {
          "transient": {
            "deleting": false
          }
        },
        "gather": {
          "logged": 1618965692771
        }
      }
    },
    {
      "cell_type": "code",
      "source": [
        "#The End!"
      ],
      "outputs": [],
      "execution_count": 23,
      "metadata": {
        "collapsed": true,
        "jupyter": {
          "source_hidden": false,
          "outputs_hidden": false
        },
        "nteract": {
          "transient": {
            "deleting": false
          }
        },
        "gather": {
          "logged": 1618965693794
        }
      }
    }
  ],
  "metadata": {
    "kernelspec": {
      "name": "python3-azureml",
      "language": "python",
      "display_name": "Python 3.6 - AzureML"
    },
    "language_info": {
      "name": "python",
      "version": "3.6.9",
      "mimetype": "text/x-python",
      "codemirror_mode": {
        "name": "ipython",
        "version": 3
      },
      "pygments_lexer": "ipython3",
      "nbconvert_exporter": "python",
      "file_extension": ".py"
    },
    "kernel_info": {
      "name": "python3-azureml"
    },
    "nteract": {
      "version": "nteract-front-end@1.0.0"
    },
    "microsoft": {
      "host": {
        "AzureML": {
          "notebookHasBeenCompleted": true
        }
      }
    }
  },
  "nbformat": 4,
  "nbformat_minor": 2
}